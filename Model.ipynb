{
 "cells": [
  {
   "cell_type": "code",
   "execution_count": 1,
   "metadata": {
    "_cell_guid": "b1076dfc-b9ad-4769-8c92-a6c4dae69d19",
    "_uuid": "8f2839f25d086af736a60e9eeb907d3b93b6e0e5"
   },
   "outputs": [],
   "source": [
    "# This Python 3 environment comes with many helpful analytics libraries installed\n",
    "# It is defined by the kaggle/python docker image: https://github.com/kaggle/docker-python\n",
    "# For example, here's several helpful packages to load in \n",
    "\n",
    "import numpy as np # linear algebra\n",
    "import pandas as pd # data processing, CSV file I/O (e.g. pd.read_csv)\n",
    "\n",
    "# Input data files are available in the \"../input/\" directory.\n",
    "# For example, running this (by clicking run or pressing Shift+Enter) will list the files in the input directory\n",
    "\n",
    "import os\n",
    "import hiddenlayer as hl\n",
    "\n",
    "\n",
    "# Any results you write to the current directory are saved as output."
   ]
  },
  {
   "cell_type": "code",
   "execution_count": 2,
   "metadata": {
    "_uuid": "d85cb53444dd40962f4d322012644cfd43f619d1"
   },
   "outputs": [
    {
     "name": "stderr",
     "output_type": "stream",
     "text": [
      "Using TensorFlow backend.\n"
     ]
    }
   ],
   "source": [
    "from pathlib import Path\n",
    "import unidecode\n",
    "import unicodedata\n",
    "import matplotlib.pyplot as plt\n",
    "from collections import Counter\n",
    "from tqdm import tqdm_notebook,tqdm\n",
    "import random\n",
    "from keras.preprocessing.text import Tokenizer\n",
    "from keras.preprocessing.sequence import pad_sequences\n",
    "from sklearn.model_selection import StratifiedKFold\n",
    "import torch\n",
    "import torch.nn as nn\n",
    "import torch.nn.functional as F\n",
    "from torch.utils.data import DataLoader,DataLoader,TensorDataset\n",
    "from torch import optim\n",
    "import time\n",
    "import pdb\n",
    "import gc\n",
    "import re\n",
    "%matplotlib inline"
   ]
  },
  {
   "cell_type": "code",
   "execution_count": 3,
   "metadata": {
    "_cell_guid": "79c7e3d0-c299-4dcb-8224-4455121ee9b0",
    "_uuid": "d629ff2d2480ee46fbb7e2d37f6b5fab8052498a"
   },
   "outputs": [
    {
     "data": {
      "text/html": [
       "<div>\n",
       "<style scoped>\n",
       "    .dataframe tbody tr th:only-of-type {\n",
       "        vertical-align: middle;\n",
       "    }\n",
       "\n",
       "    .dataframe tbody tr th {\n",
       "        vertical-align: top;\n",
       "    }\n",
       "\n",
       "    .dataframe thead th {\n",
       "        text-align: right;\n",
       "    }\n",
       "</style>\n",
       "<table border=\"1\" class=\"dataframe\">\n",
       "  <thead>\n",
       "    <tr style=\"text-align: right;\">\n",
       "      <th></th>\n",
       "      <th>ids</th>\n",
       "      <th>text</th>\n",
       "    </tr>\n",
       "  </thead>\n",
       "  <tbody>\n",
       "    <tr>\n",
       "      <th>0</th>\n",
       "      <td>0</td>\n",
       "      <td>['pharma provides healthcare products worldwid...</td>\n",
       "    </tr>\n",
       "    <tr>\n",
       "      <th>1</th>\n",
       "      <td>1</td>\n",
       "      <td>['flowers com together subsidiaries provides g...</td>\n",
       "    </tr>\n",
       "    <tr>\n",
       "      <th>2</th>\n",
       "      <td>2</td>\n",
       "      <td>['retech corporation subsidiaries operates int...</td>\n",
       "    </tr>\n",
       "    <tr>\n",
       "      <th>3</th>\n",
       "      <td>3</td>\n",
       "      <td>['property insurance holdings subsidiaries pro...</td>\n",
       "    </tr>\n",
       "    <tr>\n",
       "      <th>4</th>\n",
       "      <td>4</td>\n",
       "      <td>['holdings subsidiaries provides range product...</td>\n",
       "    </tr>\n",
       "    <tr>\n",
       "      <th>5</th>\n",
       "      <td>5</td>\n",
       "      <td>['western financial corporation subsidiaries o...</td>\n",
       "    </tr>\n",
       "    <tr>\n",
       "      <th>6</th>\n",
       "      <td>6</td>\n",
       "      <td>['mage software operates technology industry c...</td>\n",
       "    </tr>\n",
       "    <tr>\n",
       "      <th>7</th>\n",
       "      <td>7</td>\n",
       "      <td>['pm industries provides consulting services c...</td>\n",
       "    </tr>\n",
       "    <tr>\n",
       "      <th>8</th>\n",
       "      <td>8</td>\n",
       "      <td>['capital bank provides various banking produc...</td>\n",
       "    </tr>\n",
       "    <tr>\n",
       "      <th>9</th>\n",
       "      <td>9</td>\n",
       "      <td>['colonial bancorp operates bank holding compa...</td>\n",
       "    </tr>\n",
       "  </tbody>\n",
       "</table>\n",
       "</div>"
      ],
      "text/plain": [
       "   ids                                               text\n",
       "0    0  ['pharma provides healthcare products worldwid...\n",
       "1    1  ['flowers com together subsidiaries provides g...\n",
       "2    2  ['retech corporation subsidiaries operates int...\n",
       "3    3  ['property insurance holdings subsidiaries pro...\n",
       "4    4  ['holdings subsidiaries provides range product...\n",
       "5    5  ['western financial corporation subsidiaries o...\n",
       "6    6  ['mage software operates technology industry c...\n",
       "7    7  ['pm industries provides consulting services c...\n",
       "8    8  ['capital bank provides various banking produc...\n",
       "9    9  ['colonial bancorp operates bank holding compa..."
      ]
     },
     "execution_count": 3,
     "metadata": {},
     "output_type": "execute_result"
    }
   ],
   "source": [
    "train_df = pd.read_csv('../input/training/train_cleaned.csv')\n",
    "inference_df = pd.read_csv('../input/abcdef/Cleaned_inference_data.csv').drop(['Company Name'], axis = 1)\n",
    "inference_df = pd.DataFrame({\"ids\":range(inference_df.shape[0]), 'text': inference_df.values.tolist()}) \n",
    "inference_df.text = inference_df.text.astype('str')\n",
    "inference_df.head(10)"
   ]
  },
  {
   "cell_type": "code",
   "execution_count": 4,
   "metadata": {
    "_uuid": "851a5c9336b75b1d29f452c6b3b9a1a4b53ae70b"
   },
   "outputs": [
    {
     "name": "stdout",
     "output_type": "stream",
     "text": [
      "(1970, 3) (8425, 2)\n"
     ]
    }
   ],
   "source": [
    "dev_df = train_df\n",
    "print(dev_df.shape, inference_df.shape)"
   ]
  },
  {
   "cell_type": "code",
   "execution_count": 5,
   "metadata": {
    "_uuid": "4a9c7b40763d22ef2858c4b815aad71b935e7708"
   },
   "outputs": [],
   "source": [
    "def seed_everything(seed=4823):\n",
    "    random.seed(seed)\n",
    "    os.environ['PYTHONHASHSEED'] = str(seed)\n",
    "    np.random.seed(seed)\n",
    "    torch.manual_seed(seed)\n",
    "    torch.cuda.manual_seed(seed)\n",
    "    torch.backends.cudnn.deterministic = True\n",
    "seed_everything()"
   ]
  },
  {
   "cell_type": "markdown",
   "metadata": {},
   "source": [
    "# Set hyperparams - 1"
   ]
  },
  {
   "cell_type": "code",
   "execution_count": 6,
   "metadata": {
    "_uuid": "46c7089c5c046f46b8385e7128fcd1d668f05d85"
   },
   "outputs": [],
   "source": [
    "em_sz = 300\n",
    "vocab_sz = 70000\n",
    "max_len=250"
   ]
  },
  {
   "cell_type": "code",
   "execution_count": 7,
   "metadata": {
    "_uuid": "97d026cb99040337eef9a35b83fa22dceb10ed56"
   },
   "outputs": [],
   "source": [
    "tokenizer = Tokenizer(vocab_sz)\n",
    "tokenizer.fit_on_texts(pd.concat([dev_df.text, inference_df.text]))"
   ]
  },
  {
   "cell_type": "code",
   "execution_count": 8,
   "metadata": {
    "_uuid": "12fb19c07c16a80c47ee029dd03dad2dd22f939e"
   },
   "outputs": [
    {
     "name": "stdout",
     "output_type": "stream",
     "text": [
      "44853\n"
     ]
    }
   ],
   "source": [
    "x_dev = tokenizer.texts_to_sequences(dev_df.text.values)\n",
    "x_infr = tokenizer.texts_to_sequences(inference_df.text.values)\n",
    "id_infr = inference_df.ids\n",
    "tokenizer.word_index.update({\"<eof>\":len(tokenizer.word_index)+1})\n",
    "print(len(tokenizer.word_index))"
   ]
  },
  {
   "cell_type": "code",
   "execution_count": 9,
   "metadata": {
    "_uuid": "00d116a3e7bb130599b6391c65ef60346ac2d4ff"
   },
   "outputs": [],
   "source": [
    "x_dev = pad_sequences(x_dev, maxlen=max_len)\n",
    "x_infr = pad_sequences(x_infr, maxlen=max_len)"
   ]
  },
  {
   "cell_type": "code",
   "execution_count": 10,
   "metadata": {
    "_uuid": "9ffd075d8957db2ad31c2e4e20c68bba4cb2f0d3"
   },
   "outputs": [],
   "source": [
    "y_dev = dev_df.label.values"
   ]
  },
  {
   "cell_type": "code",
   "execution_count": 11,
   "metadata": {},
   "outputs": [
    {
     "name": "stdout",
     "output_type": "stream",
     "text": [
      "x_dev: (1970, 250)\n",
      "x_infr: (8425, 250)\n",
      "y_train: (1970,)\n"
     ]
    }
   ],
   "source": [
    "print(\"x_dev:\", x_dev.shape)\n",
    "print(\"x_infr:\", x_infr.shape)\n",
    "print(\"y_train:\", y_dev.shape)"
   ]
  },
  {
   "cell_type": "markdown",
   "metadata": {},
   "source": [
    "# Load Embeddings"
   ]
  },
  {
   "cell_type": "code",
   "execution_count": 12,
   "metadata": {
    "_uuid": "40ad4da665bc6812b454f38b405e005c87f50fca"
   },
   "outputs": [],
   "source": [
    "EMB_PATH = ('../input/gloveembedding/glove.6B.300d.txt')\n",
    "def get_coefs(word,*arr): return word, np.asarray(arr, dtype='float32')\n",
    "\n",
    "\n",
    "def load_glove(word_index):\n",
    "    EMBEDDING_FILE = EMB_PATH\n",
    "    def get_coefs(word,*arr): return word, np.asarray(arr, dtype='float32')[:300]\n",
    "    embeddings_index = dict(get_coefs(*o.split(\" \")) for o in open(EMBEDDING_FILE))\n",
    "    \n",
    "    all_embs = np.stack(embeddings_index.values())\n",
    "    emb_mean,emb_std = -0.005838499,0.48782197\n",
    "    embed_size = all_embs.shape[1]\n",
    "    nb_words = min(vocab_sz, len(word_index))\n",
    "    embedding_matrix = np.random.normal(emb_mean, emb_std, (nb_words, embed_size))\n",
    "    for word, i in word_index.items():\n",
    "        if i >= vocab_sz: continue\n",
    "        embedding_vector = embeddings_index.get(word)\n",
    "        if embedding_vector is not None: embedding_matrix[i:] = embedding_vector        \n",
    "    return embedding_matrix "
   ]
  },
  {
   "cell_type": "code",
   "execution_count": 13,
   "metadata": {},
   "outputs": [
    {
     "name": "stderr",
     "output_type": "stream",
     "text": [
      "/opt/conda/lib/python3.6/site-packages/ipykernel_launcher.py:10: FutureWarning: arrays to stack must be passed as a \"sequence\" type such as list or tuple. Support for non-sequence iterables such as generators is deprecated as of NumPy 1.16 and will raise an error in the future.\n",
      "  # Remove the CWD from sys.path while we load stuff.\n"
     ]
    },
    {
     "data": {
      "text/plain": [
       "(44853, 300)"
      ]
     },
     "execution_count": 13,
     "metadata": {},
     "output_type": "execute_result"
    }
   ],
   "source": [
    "seed_everything()\n",
    "embed = None\n",
    "em_fns = [load_glove]\n",
    "#embed = np.mean([fn(tokenizer.word_index) for fn in em_fns],0)\n",
    "embed = np.concatenate([fn(tokenizer.word_index) for fn in em_fns],1)\n",
    "gc.collect()\n",
    "embed.shape"
   ]
  },
  {
   "cell_type": "markdown",
   "metadata": {},
   "source": [
    "# Splits for k-fold cross validation"
   ]
  },
  {
   "cell_type": "code",
   "execution_count": 14,
   "metadata": {
    "_uuid": "87f5adeecf9d3f59cfb227d6d058e3b556039be1"
   },
   "outputs": [
    {
     "name": "stderr",
     "output_type": "stream",
     "text": [
      "/opt/conda/lib/python3.6/site-packages/sklearn/model_selection/_split.py:652: Warning: The least populated class in y has only 1 members, which is too few. The minimum number of members in any class cannot be less than n_splits=5.\n",
      "  % (min_groups, self.n_splits)), Warning)\n"
     ]
    }
   ],
   "source": [
    "splits = list(StratifiedKFold(n_splits=5, shuffle=True, random_state=10).split(x_dev, y_dev))"
   ]
  },
  {
   "cell_type": "markdown",
   "metadata": {},
   "source": [
    "# Define device"
   ]
  },
  {
   "cell_type": "code",
   "execution_count": 15,
   "metadata": {
    "_uuid": "628755ce51f0979715e40b48c6017a72ea78b97c"
   },
   "outputs": [],
   "source": [
    "device = torch.device('cuda') if torch.cuda.is_available() else torch.device('cpu')"
   ]
  },
  {
   "cell_type": "markdown",
   "metadata": {},
   "source": [
    "# Set hyperparams - 2"
   ]
  },
  {
   "cell_type": "code",
   "execution_count": 16,
   "metadata": {},
   "outputs": [],
   "source": [
    "bs= 512 \n",
    "num_epochs = 270\n",
    "learning_rate = 0.001\n",
    "num_classes = 196"
   ]
  },
  {
   "cell_type": "markdown",
   "metadata": {},
   "source": [
    "# Define model architecture"
   ]
  },
  {
   "cell_type": "code",
   "execution_count": 17,
   "metadata": {
    "_uuid": "7c19c4a03e9d466c26514801ee73b41b2564de94"
   },
   "outputs": [],
   "source": [
    "class TextClassifierSimpleLSTM(nn.Module):\n",
    "    def __init__(self,vocab_sz,emb_sz,hn=40):\n",
    "        super().__init__()\n",
    "        self.hn,self.vocab_sz,self.emb_sz = hn,vocab_sz,emb_sz\n",
    "        self.emb = nn.Embedding(vocab_sz,emb_sz)\n",
    "        self.emb.weight = nn.Parameter(torch.tensor(embed,dtype=torch.float32))\n",
    "        self.emb.weight.requires_grad = False\n",
    "        self.e_d = nn.Dropout2d(0.1)\n",
    "        self.lstm = nn.LSTM(emb_sz, hn, bidirectional=True, batch_first=True)\n",
    "        self.lstm_atn = Attention(hn * 2, max_len)\n",
    "        self.fc = nn.Sequential(nn.Linear(240,16),nn.ReLU(),nn.Dropout(0.1),\n",
    "                                nn.Linear(16,1))\n",
    "\n",
    "    def forward(self,x):\n",
    "        e_o = torch.squeeze(self.e_d(torch.unsqueeze(self.emb(x),0)))\n",
    "        lstm_o,_ = self.lstm(e_o)\n",
    "        lstm_atn = self.lstm_atn(lstm_o)\n",
    "        concat_o = torch.cat([lstm_atn,torch.mean(lstm_o,1),torch.max(lstm_o,1)[0]],1)\n",
    "        return self.fc(concat_o)\n",
    "    \n",
    "class TextClassifier(nn.Module):\n",
    "    def __init__(self, vocab_sz, emb_sz, hn=60):\n",
    "        super().__init__()\n",
    "        self.hn, self.vocab_sz, self.emb_sz = hn,vocab_sz, emb_sz\n",
    "        self.emb = nn.Embedding(vocab_sz, emb_sz)\n",
    "        self.emb.weight = nn.Parameter(torch.tensor(embed, dtype=torch.float32))\n",
    "        self.emb.weight.requires_grad = False\n",
    "        self.e_d = nn.Dropout2d(0.1)\n",
    "        self.lstm = nn.LSTM(emb_sz, hn, bidirectional=True, batch_first=True)\n",
    "        self.gru = nn.GRU(hn*2, hn, batch_first=True, bidirectional=True)\n",
    "        #self.lstm_atn = Attention(hn * 2, max_len)\n",
    "        #self.gru_atn = Attention(hn * 2, max_len)\n",
    "        self.fc = nn.Sequential(nn.Linear(hn*4, 16),nn.ReLU(),nn.Dropout(0.1),\n",
    "                                nn.Linear(16, num_classes))\n",
    "\n",
    "    def forward(self,x):\n",
    "        #print(\"x:\", x.shape)\n",
    "        e_o = torch.squeeze(self.e_d(torch.unsqueeze(self.emb(x), 0)))\n",
    "        #print(\"e_o:\", e_o.shape)\n",
    "        lstm_o,_ = self.lstm(e_o)\n",
    "        #print(\"lstm_o:\", lstm_o.shape)\n",
    "        gru_o,_ = self.gru(lstm_o)\n",
    "        #print(\"gru_o:\", gru_o.shape)\n",
    "        #lstm_atn = self.lstm_atn(lstm_o)\n",
    "        #gru_atn = self.gru_atn(gru_o)\n",
    "        concat_o = torch.cat([torch.mean(gru_o, 1),torch.max(gru_o, 1)[0]],1)\n",
    "        #print(\"concat_o:\", concat_o.shape)\n",
    "        \n",
    "        fc_out = self.fc(concat_o)\n",
    "        #print(\"out:\", fc_out.shape)\n",
    "        return fc_out     "
   ]
  },
  {
   "cell_type": "code",
   "execution_count": 18,
   "metadata": {
    "_uuid": "5cfaf6927df0fda70231b136aae23c052fed7fdf"
   },
   "outputs": [],
   "source": [
    "def sigmoid(x):return 1 / (1 + np.exp(-x))"
   ]
  },
  {
   "cell_type": "code",
   "execution_count": 19,
   "metadata": {},
   "outputs": [],
   "source": [
    "model = TextClassifier(vocab_sz, embed.shape[1])\n",
    "model = model.to(device)\n",
    "criterion = nn.CrossEntropyLoss()\n",
    "optimizer = torch.optim.Adam(model.parameters(), lr=learning_rate)"
   ]
  },
  {
   "cell_type": "code",
   "execution_count": 20,
   "metadata": {},
   "outputs": [],
   "source": [
    "def onehot_encoder(batch_size, labels):\n",
    "    onehot_encoded = np.zeros(shape=(batch_size, num_classes), dtype=np.int32)\n",
    "    batch=0\n",
    "    for label in labels:\n",
    "        onehot_encoded[batch, label] = 1\n",
    "        batch+=1\n",
    "    return(onehot_encoded)\n",
    "\n",
    "def save_model(model, pth):\n",
    "    torch.save(model.state_dict(),pth)\n",
    "    \n",
    "def get_dl_split(split_id=0):\n",
    "    trn_idxs,val_idxs = splits[split_id]\n",
    "    trn_ds = TensorDataset(torch.tensor(x_dev[trn_idxs], dtype=torch.long), torch.tensor(y_dev[trn_idxs, np.newaxis], dtype=torch.float32))\n",
    "    val_ds = TensorDataset(torch.tensor(x_dev[val_idxs], dtype=torch.long), torch.tensor(y_dev[val_idxs, np.newaxis], dtype=torch.float32))\n",
    "    trn_dl = DataLoader(trn_ds, batch_size=bs, shuffle=True)\n",
    "    val_dl = DataLoader(val_ds, batch_size=bs*6, shuffle=False)\n",
    "    return trn_dl, val_dl, y_dev[val_idxs], val_idxs"
   ]
  },
  {
   "cell_type": "code",
   "execution_count": 21,
   "metadata": {},
   "outputs": [],
   "source": [
    "dev_ds = TensorDataset(torch.tensor(x_dev, dtype=torch.long), torch.tensor(y_dev, dtype=torch.float32))\n",
    "dev_dl = DataLoader(dev_ds, batch_size=bs, shuffle=True)\n",
    "\n",
    "infr_ds = TensorDataset(torch.tensor(x_infr, dtype=torch.long), torch.tensor(id_infr, dtype=torch.int32))\n",
    "infr_dl = DataLoader(infr_ds, batch_size=1000, shuffle=False)"
   ]
  },
  {
   "cell_type": "markdown",
   "metadata": {},
   "source": [
    "# Training with cross validation"
   ]
  },
  {
   "cell_type": "code",
   "execution_count": null,
   "metadata": {},
   "outputs": [],
   "source": [
    "\n",
    "# A History object to store metrics\n",
    "history = hl.History()\n",
    "# A Canvas object to draw the metrics\n",
    "canvas = hl.Canvas()\n",
    "val_correct = val_total= correct = total = step = 0\n",
    "# Begin Training\n",
    "for fold_id in range(len(splits)):\n",
    "    trn_dl, val_dl, y_val, val_idxs = get_dl_split(fold_id)\n",
    "    for epoch in range(num_epochs):\n",
    "        for text, label in trn_dl:\n",
    "            text = text.to(device)\n",
    "            label = label.squeeze().to(device, dtype=torch.int64)\n",
    "            #print(\"text size:\", text.shape)\n",
    "            step += 1\n",
    "            \n",
    "            output = model(text)            \n",
    "            loss = criterion(output, label)\n",
    "        \n",
    "            optimizer.zero_grad()\n",
    "            loss.backward()\n",
    "            optimizer.step()\n",
    "            \n",
    "            _, predictions = torch.max(output.data, 1)\n",
    "            correct += (predictions == label).sum(0).item()\n",
    "            total += label.size(0)\n",
    "            TrainAccuracy = correct / total\n",
    "            \n",
    "            history.log(step, loss=loss, accuracy=TrainAccuracy)\n",
    "            # Plot the two metrics in one graph\n",
    "            canvas.draw_plot([history['loss'], history['accuracy']])\n",
    "             \n",
    "            \n",
    "        for text, label in val_dl:\n",
    "            text = text.to(device)\n",
    "            label = label.squeeze().to(device, dtype=torch.int64)\n",
    "            \n",
    "            val_output = model(text)\n",
    "            val_loss = criterion(val_output, label)\n",
    "            _, predictions = torch.max(val_output.data, 1)\n",
    "            val_correct += (predictions == label).sum(0).item()\n",
    "            val_total += label.size(0)\n",
    "            ValAccuracy = val_correct / val_total\n",
    "            \n",
    "        print ('Epoch [{}/{}], Step [{}], Train_Loss: {:.4f}, Val_Loss: {:.4f}, TrainAccuracy: {:.4f}, ValAccuracy: {:.4f}'.format(epoch+1, num_epochs, step+1, loss.item(), val_loss.item(), TrainAccuracy, ValAccuracy))\n"
   ]
  },
  {
   "cell_type": "markdown",
   "metadata": {},
   "source": [
    "# Train on the entire dev dataset"
   ]
  },
  {
   "cell_type": "code",
   "execution_count": 22,
   "metadata": {},
   "outputs": [
    {
     "data": {
      "image/png": "[encoded data removed]",
      "text/plain": [
       "<Figure size 864x288 with 1 Axes>"
      ]
     },
     "metadata": {},
     "output_type": "display_data"
    },
    {
     "name": "stdout",
     "output_type": "stream",
     "text": [
      "Epoch [270/270], Step [1081], Train_Loss: 0.4620, TrainAccuracy: 0.6555\n"
     ]
    }
   ],
   "source": [
    "# A History object to store metrics\n",
    "history = hl.History()\n",
    "# A Canvas object to draw the metrics\n",
    "canvas = hl.Canvas()\n",
    "# Begin Training\n",
    "correct = total = step = 0\n",
    "for epoch in range(num_epochs):\n",
    "    for text, label in dev_dl:\n",
    "        text = text.to(device)\n",
    "        label = label.squeeze().to(device, dtype=torch.int64)\n",
    "        step += 1\n",
    "            \n",
    "        output = model(text)            \n",
    "        loss = criterion(output, label)\n",
    "        \n",
    "        optimizer.zero_grad()\n",
    "        loss.backward()\n",
    "        optimizer.step()\n",
    "            \n",
    "        _, predictions = torch.max(output.data, 1)\n",
    "        correct += (predictions == label).sum(0).item()\n",
    "        total += label.size(0)\n",
    "        TrainAccuracy = correct / total\n",
    "            \n",
    "        history.log(step, loss=loss, accuracy=TrainAccuracy)\n",
    "        # Plot the two metrics in one graph\n",
    "        canvas.draw_plot([history['loss'], history['accuracy']])\n",
    "        \n",
    "        print ('Epoch [{}/{}], Step [{}], Train_Loss: {:.4f}, TrainAccuracy: {:.4f}'.format(epoch+1, num_epochs, step+1, loss.item(), TrainAccuracy))"
   ]
  },
  {
   "cell_type": "code",
   "execution_count": 23,
   "metadata": {},
   "outputs": [],
   "source": [
    "# Save model\n",
    "save_model(model, 'model2.ckpt')"
   ]
  },
  {
   "cell_type": "markdown",
   "metadata": {},
   "source": [
    "# Inferencing"
   ]
  },
  {
   "cell_type": "code",
   "execution_count": 24,
   "metadata": {},
   "outputs": [
    {
     "name": "stdout",
     "output_type": "stream",
     "text": [
      "torch.Size([8425]) torch.Size([8425])\n"
     ]
    }
   ],
   "source": [
    "# Inferencing\n",
    "pred_arr = []\n",
    "id_arr = []\n",
    "for text, ids in infr_dl:\n",
    "    text = text.to(device)\n",
    "    output = model(text)\n",
    "    _, prediction = torch.max(output.data, 1)\n",
    "    pred_arr.append(prediction)\n",
    "    id_arr.append(ids)\n",
    "    \n",
    "prediction = torch.cat(pred_arr, dim=0)\n",
    "ids = torch.cat(id_arr, dim=0)\n",
    "print(ids.shape, prediction.shape)"
   ]
  },
  {
   "cell_type": "markdown",
   "metadata": {},
   "source": [
    "# Save results"
   ]
  },
  {
   "cell_type": "code",
   "execution_count": 68,
   "metadata": {},
   "outputs": [
    {
     "data": {
      "text/html": [
       "<div>\n",
       "<style scoped>\n",
       "    .dataframe tbody tr th:only-of-type {\n",
       "        vertical-align: middle;\n",
       "    }\n",
       "\n",
       "    .dataframe tbody tr th {\n",
       "        vertical-align: top;\n",
       "    }\n",
       "\n",
       "    .dataframe thead th {\n",
       "        text-align: right;\n",
       "    }\n",
       "</style>\n",
       "<table border=\"1\" class=\"dataframe\">\n",
       "  <thead>\n",
       "    <tr style=\"text-align: right;\">\n",
       "      <th></th>\n",
       "      <th>ids</th>\n",
       "      <th>text</th>\n",
       "      <th>label</th>\n",
       "      <th>lable_text</th>\n",
       "    </tr>\n",
       "  </thead>\n",
       "  <tbody>\n",
       "    <tr>\n",
       "      <th>0</th>\n",
       "      <td>0</td>\n",
       "      <td>['pharma provides healthcare products worldwid...</td>\n",
       "      <td>60</td>\n",
       "      <td>beautycareproducts</td>\n",
       "    </tr>\n",
       "    <tr>\n",
       "      <th>10</th>\n",
       "      <td>1</td>\n",
       "      <td>['flowers com together subsidiaries provides g...</td>\n",
       "      <td>58</td>\n",
       "      <td>banks</td>\n",
       "    </tr>\n",
       "    <tr>\n",
       "      <th>252</th>\n",
       "      <td>2</td>\n",
       "      <td>['retech corporation subsidiaries operates int...</td>\n",
       "      <td>184</td>\n",
       "      <td>informationtechnology</td>\n",
       "    </tr>\n",
       "    <tr>\n",
       "      <th>358</th>\n",
       "      <td>3</td>\n",
       "      <td>['property insurance holdings subsidiaries pro...</td>\n",
       "      <td>93</td>\n",
       "      <td>casualty</td>\n",
       "    </tr>\n",
       "    <tr>\n",
       "      <th>363</th>\n",
       "      <td>4</td>\n",
       "      <td>['holdings subsidiaries provides range product...</td>\n",
       "      <td>120</td>\n",
       "      <td>commercialandprofessionalservices</td>\n",
       "    </tr>\n",
       "  </tbody>\n",
       "</table>\n",
       "</div>"
      ],
      "text/plain": [
       "     ids                ...                                         lable_text\n",
       "0      0                ...                                 beautycareproducts\n",
       "10     1                ...                                              banks\n",
       "252    2                ...                              informationtechnology\n",
       "358    3                ...                                           casualty\n",
       "363    4                ...                  commercialandprofessionalservices\n",
       "\n",
       "[5 rows x 4 columns]"
      ]
     },
     "execution_count": 68,
     "metadata": {},
     "output_type": "execute_result"
    }
   ],
   "source": [
    "pred_df = pd.DataFrame({\"ids\":ids, \"text\":inference_df.text, \"label\":prediction})\n",
    "out = train_df.drop(['text'], axis=1)\n",
    "output = pd.merge(pred_df, out, on='label', how='left', sort=False).drop_duplicates()\n",
    "output.head()"
   ]
  },
  {
   "cell_type": "code",
   "execution_count": null,
   "metadata": {},
   "outputs": [],
   "source": [
    "output.to_csv('output3.csv')"
   ]
  }
 ],
 "metadata": {
  "kernelspec": {
   "display_name": "Python 3",
   "language": "python",
   "name": "python3"
  },
  "language_info": {
   "codemirror_mode": {
    "name": "ipython",
    "version": 3
   },
   "file_extension": ".py",
   "mimetype": "text/x-python",
   "name": "python",
   "nbconvert_exporter": "python",
   "pygments_lexer": "ipython3",
   "version": "3.5.4"
  }
 },
 "nbformat": 4,
 "nbformat_minor": 1
}
