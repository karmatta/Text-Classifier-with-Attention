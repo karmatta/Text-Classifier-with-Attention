{
 "cells": [
  {
   "cell_type": "code",
   "execution_count": 1,
   "metadata": {},
   "outputs": [
    {
     "name": "stdout",
     "output_type": "stream",
     "text": [
      "[nltk_data] Downloading package stopwords to\n",
      "[nltk_data]     /home/karthik/nltk_data...\n",
      "[nltk_data]   Package stopwords is already up-to-date!\n"
     ]
    },
    {
     "data": {
      "text/plain": [
       "True"
      ]
     },
     "execution_count": 1,
     "metadata": {},
     "output_type": "execute_result"
    }
   ],
   "source": [
    "import nltk\n",
    "import torch\n",
    "import matplotlib\n",
    "import numpy as np\n",
    "import pandas as pd\n",
    "import torch.nn as nn\n",
    "import hiddenlayer as hl\n",
    "from functools import reduce\n",
    "from nltk.corpus import stopwords\n",
    "from sklearn.preprocessing import LabelEncoder\n",
    "from sklearn.preprocessing import OneHotEncoder\n",
    "from sklearn.model_selection import train_test_split\n",
    "nltk.download('stopwords')"
   ]
  },
  {
   "cell_type": "markdown",
   "metadata": {},
   "source": [
    "# Load Data"
   ]
  },
  {
   "cell_type": "code",
   "execution_count": 2,
   "metadata": {},
   "outputs": [
    {
     "name": "stdout",
     "output_type": "stream",
     "text": [
      "# Unique Companies in training: 2002\n",
      "# unique labels in training 197\n"
     ]
    }
   ],
   "source": [
    "# Load Dataset\n",
    "data = pd.read_csv('Training Data.csv')\n",
    "\n",
    "# Slice relevant colums\n",
    "rel_data = data.loc[:,['Company Name','Business Description','Industry Classifications']]\n",
    "print(\"# Unique Companies in training:\", rel_data[\"Company Name\"].nunique())\n",
    "\n",
    "# Extract labels\n",
    "rel_data['labels'] = rel_data[\"Industry Classifications\"].str.split(\";\", expand=True).iloc[:,[0]]\n",
    "trunc_training_data = rel_data.loc[:, ['Company Name','Business Description', 'labels']]\n",
    "trunc_training_data['labels'] = trunc_training_data['labels'].str.replace(\"\\(Primary\\)\", \"\")\n",
    "trunc_training_data['labels'] = trunc_training_data['labels'].str.replace(\" \", \"\")\n",
    "trunc_training_data['labels'] = trunc_training_data['labels'].str.lower()\n",
    "\n",
    "print(\"# unique labels in training\", trunc_training_data[\"labels\"].nunique())"
   ]
  },
  {
   "cell_type": "code",
   "execution_count": 4,
   "metadata": {},
   "outputs": [
    {
     "name": "stdout",
     "output_type": "stream",
     "text": [
      "# Unique Companies in Inference data: 8425\n"
     ]
    }
   ],
   "source": [
    "# Load inference data\n",
    "inference_data = pd.read_csv(\"Company_Business_Description_.csv\")\n",
    "\n",
    "# Slice relevant colums\n",
    "inference_data = inference_data.loc[:,['Company Name','Business Description']]\n",
    "print(\"# Unique Companies in Inference data:\", inference_data[\"Company Name\"].nunique())"
   ]
  },
  {
   "cell_type": "markdown",
   "metadata": {},
   "source": [
    "# Pre-processing"
   ]
  },
  {
   "cell_type": "code",
   "execution_count": 5,
   "metadata": {},
   "outputs": [],
   "source": [
    "# Basic preprocessing\n",
    "trunc_training_data['Business Description'] = trunc_training_data['Business Description'].str.replace(r'[0-9]', \" \")\n",
    "trunc_training_data['Business Description'] = trunc_training_data['Business Description'].str.replace(r'[^\\w\\s]', \" \")\n",
    "trunc_training_data['Business Description'] = trunc_training_data['Business Description'].str.replace(r\"\\bLLC\\b | \\bInc\\b | \\bst\\b | \\brd\\b | \\bST\\b | \\bnd\\b\", \" \")\n",
    "\n",
    "# Clean inference data\n",
    "inference_data['Business Description'] = inference_data['Business Description'].str.replace(r'[0-9]', \" \")\n",
    "inference_data['Business Description'] = inference_data['Business Description'].str.replace(r'[^\\w\\s]', \" \")\n",
    "inference_data['Business Description'] = inference_data['Business Description'].str.replace(r\"\\bLLC\\b | \\bInc\\b | \\bst\\b | \\brd\\b | \\bST\\b | \\bnd\\b\", \" \")"
   ]
  },
  {
   "cell_type": "code",
   "execution_count": 6,
   "metadata": {},
   "outputs": [
    {
     "name": "stdout",
     "output_type": "stream",
     "text": [
      "1970\n"
     ]
    },
    {
     "data": {
      "text/html": [
       "<div>\n",
       "<style scoped>\n",
       "    .dataframe tbody tr th:only-of-type {\n",
       "        vertical-align: middle;\n",
       "    }\n",
       "\n",
       "    .dataframe tbody tr th {\n",
       "        vertical-align: top;\n",
       "    }\n",
       "\n",
       "    .dataframe thead th {\n",
       "        text-align: right;\n",
       "    }\n",
       "</style>\n",
       "<table border=\"1\" class=\"dataframe\">\n",
       "  <thead>\n",
       "    <tr style=\"text-align: right;\">\n",
       "      <th></th>\n",
       "      <th>Company Name</th>\n",
       "      <th>Business Description</th>\n",
       "    </tr>\n",
       "  </thead>\n",
       "  <tbody>\n",
       "    <tr>\n",
       "      <th>0</th>\n",
       "      <td>024 Pharma, Inc. (OTCPK:EEIG)</td>\n",
       "      <td>pharma provides healthcare products worldwide ...</td>\n",
       "    </tr>\n",
       "    <tr>\n",
       "      <th>1</th>\n",
       "      <td>1-800-FLOWERS.COM, Inc. (NasdaqGS:FLWS)</td>\n",
       "      <td>flowers com together subsidiaries provides gou...</td>\n",
       "    </tr>\n",
       "    <tr>\n",
       "      <th>2</th>\n",
       "      <td>12 Retech Corporation (OTCPK:RETC)</td>\n",
       "      <td>retech corporation subsidiaries operates integ...</td>\n",
       "    </tr>\n",
       "    <tr>\n",
       "      <th>3</th>\n",
       "      <td>1347 Property Insurance Holdings, Inc. (Nasdaq...</td>\n",
       "      <td>property insurance holdings subsidiaries provi...</td>\n",
       "    </tr>\n",
       "    <tr>\n",
       "      <th>4</th>\n",
       "      <td>1847 Holdings LLC (OTCPK:EFSH)</td>\n",
       "      <td>holdings subsidiaries provides range products ...</td>\n",
       "    </tr>\n",
       "  </tbody>\n",
       "</table>\n",
       "</div>"
      ],
      "text/plain": [
       "                                        Company Name  \\\n",
       "0                      024 Pharma, Inc. (OTCPK:EEIG)   \n",
       "1            1-800-FLOWERS.COM, Inc. (NasdaqGS:FLWS)   \n",
       "2                 12 Retech Corporation (OTCPK:RETC)   \n",
       "3  1347 Property Insurance Holdings, Inc. (Nasdaq...   \n",
       "4                     1847 Holdings LLC (OTCPK:EFSH)   \n",
       "\n",
       "                                Business Description  \n",
       "0  pharma provides healthcare products worldwide ...  \n",
       "1  flowers com together subsidiaries provides gou...  \n",
       "2  retech corporation subsidiaries operates integ...  \n",
       "3  property insurance holdings subsidiaries provi...  \n",
       "4  holdings subsidiaries provides range products ...  "
      ]
     },
     "execution_count": 6,
     "metadata": {},
     "output_type": "execute_result"
    }
   ],
   "source": [
    "# Removing Stop words\n",
    "stop = stopwords.words('english')\n",
    "trunc_training_data['Business Description'] = trunc_training_data['Business Description'].apply(lambda x: \" \".join(x for x in x.split() if x not in stop))\n",
    "\n",
    "# Remove infrequent words\n",
    "freq = pd.Series(' '.join(trunc_training_data['Business Description']).split()).value_counts()[-10:]\n",
    "freq = list(freq.index)\n",
    "trunc_training_data['Business Description'] = trunc_training_data['Business Description'].str.lower().apply(lambda x: \" \".join(x for x in x.split() if x not in freq))\n",
    "#trunc_training_data['Business Description'].head()\n",
    "trunc_training_data = trunc_training_data[trunc_training_data['Business Description']!='']\n",
    "print(len(trunc_training_data))\n",
    "\n",
    "# Save the cleaned data\n",
    "#trunc_training_data.to_csv(\"Cleaned_training_data.csv\")\n",
    "\n",
    "# Clean inference data\n",
    "inference_data['Business Description'] = inference_data['Business Description'].apply(lambda x: \" \".join(x for x in x.split() if x not in stop))\n",
    "freq = pd.Series(' '.join(inference_data['Business Description']).split()).value_counts()[-10:]\n",
    "freq = list(freq.index)\n",
    "inference_data['Business Description'] = inference_data['Business Description'].str.lower().apply(lambda x: \" \".join(x for x in x.split() if x not in freq))\n",
    "inference_data.head()\n",
    "#inference_data.to_csv('Cleaned_inference_data.csv')"
   ]
  },
  {
   "cell_type": "code",
   "execution_count": 7,
   "metadata": {},
   "outputs": [
    {
     "data": {
      "text/plain": [
       "196"
      ]
     },
     "execution_count": 7,
     "metadata": {},
     "output_type": "execute_result"
    }
   ],
   "source": [
    "trunc_training_data['labels'].nunique()"
   ]
  },
  {
   "cell_type": "code",
   "execution_count": 8,
   "metadata": {},
   "outputs": [
    {
     "name": "stdout",
     "output_type": "stream",
     "text": [
      "0 195\n"
     ]
    }
   ],
   "source": [
    "# integer encode\n",
    "values = np.array(trunc_training_data['labels'])\n",
    "label_encoder = LabelEncoder()\n",
    "integer_encoded = label_encoder.fit_transform(values)\n",
    "print(integer_encoded.min(), integer_encoded.max())"
   ]
  },
  {
   "cell_type": "code",
   "execution_count": 9,
   "metadata": {},
   "outputs": [
    {
     "name": "stdout",
     "output_type": "stream",
     "text": [
      "1970 1970\n"
     ]
    }
   ],
   "source": [
    "train = pd.DataFrame({\"text\": trunc_training_data.iloc[:, [1]].values.tolist(), 'lable_text':values, \"label\": integer_encoded})\n",
    "train.to_csv(\"train_cleaned.csv\")"
   ]
  }
 ],
 "metadata": {
  "kernelspec": {
   "display_name": "Python 3",
   "language": "python",
   "name": "python3"
  },
  "language_info": {
   "codemirror_mode": {
    "name": "ipython",
    "version": 3
   },
   "file_extension": ".py",
   "mimetype": "text/x-python",
   "name": "python",
   "nbconvert_exporter": "python",
   "pygments_lexer": "ipython3",
   "version": "3.5.4"
  }
 },
 "nbformat": 4,
 "nbformat_minor": 2
}
